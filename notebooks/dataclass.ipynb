{
 "cells": [
  {
   "cell_type": "code",
   "execution_count": 1,
   "metadata": {},
   "outputs": [],
   "source": [
    "import os, sys\n",
    "import numpy as np\n",
    "import qcportal as ptl\n",
    "import pandas as pd\n",
    "from collections import defaultdict\n",
    "import torch\n",
    "from loguru import logger\n"
   ]
  },
  {
   "cell_type": "code",
   "execution_count": 2,
   "metadata": {},
   "outputs": [],
   "source": [
    "class QM9Dataset(torch.utils.data.Dataset):\n",
    "    \n",
    "    def __init__(self, dataset_file: str = None, name: str = \"\"):\n",
    "        self._name = name\n",
    "        self.dataset_file = dataset_file\n",
    "        self.load(dataset_file)\n",
    "        self.molecules = self.qm9.get_molecules()\n",
    "        self.records = self.qm9.get_records(method=\"b3lyp\")\n",
    "\n",
    "\n",
    "    def load(self, dataset_file):\n",
    "        \"\"\"\n",
    "        Loads the raw dataset from qcarchive.\n",
    "\n",
    "        If a valid qcarchive generated hdf5 file is not pass to the\n",
    "        set_raw_dataset_file function, the code will download the\n",
    "        raw dataset from qcarchive.\n",
    "        \"\"\"\n",
    "        qcp_client = ptl.FractalClient()\n",
    "        qcportal_data = {\"collection\": \"Dataset\", \"dataset\": \"QM9\"}\n",
    "\n",
    "        try:\n",
    "            self.qm9 = qcp_client.get_collection(\n",
    "                qcportal_data[\"collection\"], qcportal_data[\"dataset\"]\n",
    "            )\n",
    "        except Exception:\n",
    "            print(\n",
    "                f\"Dataset {qcportal_data['dataset']} is not available in collection {qcportal_data['collection']}.\"\n",
    "            )\n",
    "\n",
    "        if dataset_file and os.path.isfile(dataset_file):\n",
    "            if not dataset_file.endswith(\".hdf5\"):\n",
    "                raise ValueError(\"Input file must be an .hdf5 file.\")\n",
    "            logger.debug(f'Loading from {dataset_file}')\n",
    "            self.qm9.set_view(dataset_file)\n",
    "        else:\n",
    "            logger.debug(f'Downloading from qcportal')\n",
    "\n",
    "            # to get QM9 from qcportal, we need to define which collection and QM9\n",
    "\n",
    "            self.qm9.download(dataset_file)\n",
    "            self.qm9.to_file(path=dataset_file, encoding=\"hdf5\")\n",
    "            self.qm9.set_view(self.dataset_file)\n",
    "\n",
    "    def __len__(self):\n",
    "        molecules = self.qm9.get_molecules()\n",
    "        return molecules.shape[0]\n",
    "\n",
    "    def __getitem__(self, idx):\n",
    "        with h5py.File(self.hdf5_file, 'r') as f:\n",
    "            geometry = torch.tensor(f[self.keys[idx]]['geometry'][:])\n",
    "            energy = torch.tensor(f[self.keys[idx]]['energy'][()])\n",
    "        \n",
    "        if self.transform:\n",
    "            geometry = self.transform(geometry)\n",
    "        if self.target_transform:\n",
    "            energy = self.target_transform(energy)\n",
    "        \n",
    "        return geometry, energy\n"
   ]
  },
  {
   "cell_type": "code",
   "execution_count": 3,
   "metadata": {},
   "outputs": [
    {
     "name": "stderr",
     "output_type": "stream",
     "text": [
      "\u001b[32m2023-08-01 14:37:25.667\u001b[0m | \u001b[34m\u001b[1mDEBUG   \u001b[0m | \u001b[36m__main__\u001b[0m:\u001b[36mload\u001b[0m:\u001b[36m34\u001b[0m - \u001b[34m\u001b[1mDownloading from qcportal\u001b[0m\n",
      "160MB [01:26, 1.85MB/s]                            \n"
     ]
    },
    {
     "ename": "AttributeError",
     "evalue": "module 'distutils' has no attribute 'version'",
     "output_type": "error",
     "traceback": [
      "\u001b[0;31m---------------------------------------------------------------------------\u001b[0m",
      "\u001b[0;31mAttributeError\u001b[0m                            Traceback (most recent call last)",
      "Cell \u001b[0;32mIn[3], line 1\u001b[0m\n\u001b[0;32m----> 1\u001b[0m data \u001b[39m=\u001b[39m QM9Dataset(\u001b[39m'\u001b[39;49m\u001b[39mtest.hdf5\u001b[39;49m\u001b[39m'\u001b[39;49m)\n",
      "Cell \u001b[0;32mIn[2], line 6\u001b[0m, in \u001b[0;36mQM9Dataset.__init__\u001b[0;34m(self, dataset_file, name)\u001b[0m\n\u001b[1;32m      4\u001b[0m \u001b[39mself\u001b[39m\u001b[39m.\u001b[39m_name \u001b[39m=\u001b[39m name\n\u001b[1;32m      5\u001b[0m \u001b[39mself\u001b[39m\u001b[39m.\u001b[39mdataset_file \u001b[39m=\u001b[39m dataset_file\n\u001b[0;32m----> 6\u001b[0m \u001b[39mself\u001b[39;49m\u001b[39m.\u001b[39;49mload(dataset_file)\n",
      "Cell \u001b[0;32mIn[2], line 39\u001b[0m, in \u001b[0;36mQM9Dataset.load\u001b[0;34m(self, dataset_file)\u001b[0m\n\u001b[1;32m     36\u001b[0m \u001b[39m# to get QM9 from qcportal, we need to define which collection and QM9\u001b[39;00m\n\u001b[1;32m     38\u001b[0m \u001b[39mself\u001b[39m\u001b[39m.\u001b[39mqm9\u001b[39m.\u001b[39mdownload(dataset_file)\n\u001b[0;32m---> 39\u001b[0m \u001b[39mself\u001b[39;49m\u001b[39m.\u001b[39;49mqm9\u001b[39m.\u001b[39;49mto_file(path\u001b[39m=\u001b[39;49mdataset_file, encoding\u001b[39m=\u001b[39;49m\u001b[39m\"\u001b[39;49m\u001b[39mhdf5\u001b[39;49m\u001b[39m\"\u001b[39;49m)\n\u001b[1;32m     40\u001b[0m \u001b[39mself\u001b[39m\u001b[39m.\u001b[39mqm9\u001b[39m.\u001b[39mset_view(\u001b[39mself\u001b[39m\u001b[39m.\u001b[39mdataset_file)\n",
      "File \u001b[0;32m/data/shared/software/python_env/mambaforge/envs/modelforge3.10/lib/python3.10/site-packages/qcportal/collections/dataset.py:240\u001b[0m, in \u001b[0;36mDataset.to_file\u001b[0;34m(self, path, encoding)\u001b[0m\n\u001b[1;32m    237\u001b[0m \u001b[39melif\u001b[39;00m encoding\u001b[39m.\u001b[39mlower() \u001b[39min\u001b[39;00m [\u001b[39m\"\u001b[39m\u001b[39mhdf5\u001b[39m\u001b[39m\"\u001b[39m, \u001b[39m\"\u001b[39m\u001b[39mh5\u001b[39m\u001b[39m\"\u001b[39m]:\n\u001b[1;32m    238\u001b[0m     \u001b[39mfrom\u001b[39;00m \u001b[39m.\u001b[39;00m \u001b[39mimport\u001b[39;00m HDF5View\n\u001b[0;32m--> 240\u001b[0m     HDF5View(path)\u001b[39m.\u001b[39;49mwrite(\u001b[39mself\u001b[39;49m)\n\u001b[1;32m    241\u001b[0m \u001b[39melse\u001b[39;00m:\n\u001b[1;32m    242\u001b[0m     \u001b[39mraise\u001b[39;00m \u001b[39mNotImplementedError\u001b[39;00m(\u001b[39mf\u001b[39m\u001b[39m\"\u001b[39m\u001b[39mUnsupported encoding: \u001b[39m\u001b[39m{\u001b[39;00mencoding\u001b[39m}\u001b[39;00m\u001b[39m\"\u001b[39m)\n",
      "File \u001b[0;32m/data/shared/software/python_env/mambaforge/envs/modelforge3.10/lib/python3.10/site-packages/qcportal/collections/dataset_view.py:260\u001b[0m, in \u001b[0;36mHDF5View.write\u001b[0;34m(self, ds)\u001b[0m\n\u001b[1;32m    257\u001b[0m n_records \u001b[39m=\u001b[39m \u001b[39mlen\u001b[39m(ds\u001b[39m.\u001b[39mdata\u001b[39m.\u001b[39mrecords)\n\u001b[1;32m    258\u001b[0m default_shape \u001b[39m=\u001b[39m (n_records,)\n\u001b[0;32m--> 260\u001b[0m \u001b[39mif\u001b[39;00m h5py\u001b[39m.\u001b[39m__version__ \u001b[39m>\u001b[39m\u001b[39m=\u001b[39m distutils\u001b[39m.\u001b[39;49mversion\u001b[39m.\u001b[39mStrictVersion(\u001b[39m\"\u001b[39m\u001b[39m2.10.0\u001b[39m\u001b[39m\"\u001b[39m):\n\u001b[1;32m    261\u001b[0m     vlen_double_t \u001b[39m=\u001b[39m h5py\u001b[39m.\u001b[39mvlen_dtype(np\u001b[39m.\u001b[39mdtype(\u001b[39m\"\u001b[39m\u001b[39mfloat64\u001b[39m\u001b[39m\"\u001b[39m))\n\u001b[1;32m    262\u001b[0m     utf8_t \u001b[39m=\u001b[39m h5py\u001b[39m.\u001b[39mstring_dtype(encoding\u001b[39m=\u001b[39m\u001b[39m\"\u001b[39m\u001b[39mutf-8\u001b[39m\u001b[39m\"\u001b[39m)\n",
      "\u001b[0;31mAttributeError\u001b[0m: module 'distutils' has no attribute 'version'"
     ]
    }
   ],
   "source": [
    "data = QM9Dataset('test.hdf5')"
   ]
  },
  {
   "cell_type": "code",
   "execution_count": null,
   "metadata": {},
   "outputs": [],
   "source": [
    "data.__len__()"
   ]
  }
 ],
 "metadata": {
  "kernelspec": {
   "display_name": "modelforge3.10",
   "language": "python",
   "name": "python3"
  },
  "language_info": {
   "codemirror_mode": {
    "name": "ipython",
    "version": 3
   },
   "file_extension": ".py",
   "mimetype": "text/x-python",
   "name": "python",
   "nbconvert_exporter": "python",
   "pygments_lexer": "ipython3",
   "version": "3.10.12"
  },
  "orig_nbformat": 4
 },
 "nbformat": 4,
 "nbformat_minor": 2
}
