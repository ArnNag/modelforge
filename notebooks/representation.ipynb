{
 "cells": [
  {
   "cell_type": "markdown",
   "metadata": {},
   "source": [
    "Generate rbf output for each of the different RBF implementations and visualize the output"
   ]
  },
  {
   "cell_type": "code",
   "execution_count": null,
   "metadata": {},
   "outputs": [],
   "source": [
    "import torch\n",
    "from modelforge.potential.representation import PhysNetRadialBasisFunction, AniRadialBasisFunction, SchnetRadialBasisFunction\n"
   ]
  },
  {
   "cell_type": "code",
   "execution_count": 2,
   "metadata": {},
   "outputs": [],
   "source": [
    "# Test parameters\n",
    "distances = torch.tensor([[0.5], [1.0], [1.5]], dtype=torch.float32) / 10\n",
    "number_of_radial_basis_functions = 100\n",
    "max_distance = 2.0  / 10\n",
    "min_distance = 0.0\n",
    "dtype = torch.float32\n"
   ]
  },
  {
   "cell_type": "code",
   "execution_count": null,
   "metadata": {},
   "outputs": [],
   "source": [
    "# Define colors for each radial basis function\n",
    "colors = ['blue', 'green', 'orange']\n",
    "\n",
    "for idx, rbf_fn in enumerate([PhysNetRadialBasisFunction, AniRadialBasisFunction, SchnetRadialBasisFunction]):\n",
    "    print(f\"Testing {rbf_fn.__name__}\")\n",
    "\n",
    "\n",
    "    # Instantiate the RBF\n",
    "    rbf = rbf_fn(\n",
    "        number_of_radial_basis_functions=number_of_radial_basis_functions,\n",
    "        max_distance=max_distance,\n",
    "        min_distance=min_distance,\n",
    "        dtype=dtype,\n",
    "        trainable_centers_and_scale_factors=False,\n",
    "    )\n",
    "\n",
    "    # Get actual outputs\n",
    "    actual_output = rbf(distances)\n",
    "\n",
    "    import numpy as np\n",
    "    import matplotlib.pyplot as plt\n",
    "    rs = torch.tensor([[r] for r in np.linspace(0,0.2, number_of_radial_basis_functions)])\n",
    "    for i in range(3):\n",
    "        plt.plot(rs, actual_output[i].numpy(), color=colors[idx])\n",
    "        # Draw the vertical line (axvline)\n",
    "        plt.axvline(distances[i].numpy(), 0, 0.2, c='r')\n",
    "    # Add the legend entry for the radial basis function once\n",
    "    plt.plot([], [], color=colors[idx], label=f'{rbf_fn.__name__}')\n",
    "\n",
    "plt.legend()\n",
    "plt.show()\n"
   ]
  },
  {
   "cell_type": "code",
   "execution_count": null,
   "metadata": {},
   "outputs": [],
   "source": []
  }
 ],
 "metadata": {
  "kernelspec": {
   "display_name": "modelforge",
   "language": "python",
   "name": "python3"
  },
  "language_info": {
   "codemirror_mode": {
    "name": "ipython",
    "version": 3
   },
   "file_extension": ".py",
   "mimetype": "text/x-python",
   "name": "python",
   "nbconvert_exporter": "python",
   "pygments_lexer": "ipython3",
   "version": "3.11.9"
  }
 },
 "nbformat": 4,
 "nbformat_minor": 2
}
